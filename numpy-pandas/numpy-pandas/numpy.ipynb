{
 "cells": [
  {
   "cell_type": "markdown",
   "id": "b0b34c08-5560-44d6-848a-587045ca08b3",
   "metadata": {},
   "source": [
    "<h1><span style=\"color:green\">Numpy</span></h1>"
   ]
  },
  {
   "cell_type": "code",
   "execution_count": null,
   "id": "a4d4cabd-90fb-4954-b1ef-f4708910a7e1",
   "metadata": {},
   "outputs": [],
   "source": [
    "pip install numpy "
   ]
  },
  {
   "cell_type": "code",
   "execution_count": 1,
   "id": "6a8f05ea-1c0d-4312-9758-0d2bd8007025",
   "metadata": {},
   "outputs": [
    {
     "data": {
      "text/plain": [
       "'1.24.1'"
      ]
     },
     "execution_count": 1,
     "metadata": {},
     "output_type": "execute_result"
    }
   ],
   "source": [
    "import numpy as np\n",
    "import random\n",
    "np.__version__"
   ]
  },
  {
   "cell_type": "markdown",
   "id": "b118e78a-572c-4ef3-b5df-7b90209ff488",
   "metadata": {
    "tags": []
   },
   "source": [
    "\n",
    "<h1>چرا نامپای؟</h1>"
   ]
  },
  {
   "cell_type": "code",
   "execution_count": 2,
   "id": "578e5111-9ddd-4724-91b9-25049dff122b",
   "metadata": {},
   "outputs": [
    {
     "data": {
      "text/plain": [
       "[1, 2, 'c']"
      ]
     },
     "execution_count": 2,
     "metadata": {},
     "output_type": "execute_result"
    }
   ],
   "source": [
    "[1,2,\"c\"]"
   ]
  },
  {
   "cell_type": "code",
   "execution_count": 183,
   "id": "6424bbd7-ca68-4d3a-831a-79ca3b12b395",
   "metadata": {},
   "outputs": [],
   "source": [
    "n = 4096"
   ]
  },
  {
   "cell_type": "code",
   "execution_count": 184,
   "id": "1fda018c-fd3b-4922-961f-4faa0e7282f2",
   "metadata": {},
   "outputs": [
    {
     "name": "stdout",
     "output_type": "stream",
     "text": [
      "CPU times: user 2.28 s, sys: 234 ms, total: 2.51 s\n",
      "Wall time: 2.56 s\n"
     ]
    }
   ],
   "source": [
    "%%time \n",
    "List_Test_Sample =  [[ random.random() for _ in range (n)] for _ in range(n)]"
   ]
  },
  {
   "cell_type": "code",
   "execution_count": 185,
   "id": "06d1c4c4-327d-43f4-a9dd-53fc476183d0",
   "metadata": {},
   "outputs": [
    {
     "name": "stdout",
     "output_type": "stream",
     "text": [
      "CPU times: user 178 ms, sys: 37.9 ms, total: 216 ms\n",
      "Wall time: 226 ms\n"
     ]
    }
   ],
   "source": [
    "%%time \n",
    "Array_Test_Sample = np.random.rand(n,n)"
   ]
  },
  {
   "cell_type": "markdown",
   "id": "bca0cb3f-c00c-4e29-9374-93b43d045f19",
   "metadata": {},
   "source": [
    "<h1>ساخت آرایه</h1>"
   ]
  },
  {
   "cell_type": "code",
   "execution_count": 187,
   "id": "f2037132-4041-4152-81ef-127194ccd2ea",
   "metadata": {},
   "outputs": [
    {
     "data": {
      "text/plain": [
       "array([[0.00162622, 0.60394729, 0.88787817, 0.72883237, 0.19831051],\n",
       "       [0.04228579, 0.04782065, 0.31185145, 0.1264919 , 0.54516174],\n",
       "       [0.69431543, 0.94832506, 0.93370705, 0.69116545, 0.92471843],\n",
       "       [0.14699785, 0.71451587, 0.43022072, 0.01313726, 0.64416061],\n",
       "       [0.96696049, 0.53774083, 0.51405252, 0.27603758, 0.51927324]])"
      ]
     },
     "execution_count": 187,
     "metadata": {},
     "output_type": "execute_result"
    }
   ],
   "source": [
    "shape = (10,10)\n",
    "a8 = np.zeros_like(a1)\n",
    "np.empty((5,5))"
   ]
  },
  {
   "cell_type": "code",
   "execution_count": 41,
   "id": "dadffac8-3645-4761-be6b-3eeeee332ca0",
   "metadata": {},
   "outputs": [],
   "source": [
    "arr = [[1,2,3,4] , \n",
    "       [5,6,7,8]]\n",
    "a1 = np.array(arr)\n",
    "a2 = np.zeros(10)\n",
    "a3 = np.ones(4)\n",
    "a4 = np.random.rand(10) # 0 - 1\n",
    "a5 = np.random.randint(1,1000,10) # All Numbers\n",
    "a6 = np.full((5,5),10) # numpy.ones((5,5)) * 10\n",
    "a7 = np.empty((5,5),dtype = np.int16)\n",
    "a8 = np.zeros_like(a1)"
   ]
  },
  {
   "cell_type": "code",
   "execution_count": 43,
   "id": "76ddfa91-1b6d-4587-9e3f-259ba1c0b697",
   "metadata": {},
   "outputs": [
    {
     "name": "stdout",
     "output_type": "stream",
     "text": [
      "shape = (2, 4)\n"
     ]
    }
   ],
   "source": [
    "print (f\"shape = {a1.shape}\")"
   ]
  },
  {
   "cell_type": "code",
   "execution_count": 188,
   "id": "fc349300-a233-49a3-a5ed-a4e1d7b07cd9",
   "metadata": {},
   "outputs": [
    {
     "data": {
      "text/plain": [
       "array([[0, 0, 0, 0, 0],\n",
       "       [0, 0, 0, 0, 0],\n",
       "       [0, 0, 0, 0, 0],\n",
       "       [0, 0, 0, 0, 0],\n",
       "       [0, 0, 0, 0, 0]])"
      ]
     },
     "execution_count": 188,
     "metadata": {},
     "output_type": "execute_result"
    }
   ],
   "source": [
    "shape = (5,5)\n",
    "rand1_int = np.random.randint(0,1, shape)\n",
    "rand2_float =  np.random.rand(*shape)\n",
    "rand1_int \n"
   ]
  },
  {
   "cell_type": "code",
   "execution_count": 190,
   "id": "db740a3a-2fe3-4828-ab8e-243834b0483e",
   "metadata": {},
   "outputs": [
    {
     "name": "stdout",
     "output_type": "stream",
     "text": [
      "[[1 2 3]\n",
      " [1 2 3]\n",
      " [1 2 3]]\n"
     ]
    }
   ],
   "source": [
    "# Repeat an array\n",
    "arr = np.array([[1,2,3]])\n",
    "r1 = np.repeat(arr,3, axis=0)\n",
    "print(r1)"
   ]
  },
  {
   "cell_type": "code",
   "execution_count": 51,
   "id": "361ea9ef-55fd-411c-81c5-7463969a883a",
   "metadata": {},
   "outputs": [
    {
     "data": {
      "text/plain": [
       "array([[99, 99],\n",
       "       [99, 99]])"
      ]
     },
     "execution_count": 51,
     "metadata": {},
     "output_type": "execute_result"
    }
   ],
   "source": [
    "np.full((2,2), 99)"
   ]
  },
  {
   "cell_type": "code",
   "execution_count": 52,
   "id": "e8720c45-6e32-48b7-8944-1d11b94ce82c",
   "metadata": {},
   "outputs": [
    {
     "data": {
      "text/plain": [
       "array([[1., 0., 0., 0., 0.],\n",
       "       [0., 1., 0., 0., 0.],\n",
       "       [0., 0., 1., 0., 0.],\n",
       "       [0., 0., 0., 1., 0.],\n",
       "       [0., 0., 0., 0., 1.]])"
      ]
     },
     "execution_count": 52,
     "metadata": {},
     "output_type": "execute_result"
    }
   ],
   "source": [
    "np.identity(5)"
   ]
  },
  {
   "cell_type": "code",
   "execution_count": 192,
   "id": "1946dcb0-4782-4178-a7b8-dbfd6c836149",
   "metadata": {},
   "outputs": [
    {
     "name": "stdout",
     "output_type": "stream",
     "text": [
      "[1 2 3]\n"
     ]
    }
   ],
   "source": [
    "a = np.array([1,2,3])\n",
    "b = a.copy()\n",
    "b[0] = 100\n",
    "\n",
    "print(a)"
   ]
  },
  {
   "cell_type": "markdown",
   "id": "54bd9527-99cd-4c9e-a4d5-7d6436da1e65",
   "metadata": {},
   "source": [
    "<h1>تولید دنباله </h1>"
   ]
  },
  {
   "cell_type": "code",
   "execution_count": 60,
   "id": "98378666-92cf-4db2-ae88-deea059da911",
   "metadata": {},
   "outputs": [
    {
     "data": {
      "text/plain": [
       "array([ 0,  2,  4,  6,  8, 10, 12, 14, 16, 18])"
      ]
     },
     "execution_count": 60,
     "metadata": {},
     "output_type": "execute_result"
    }
   ],
   "source": [
    "start = 0\n",
    "stop  = 20\n",
    "step  = 2\n",
    "a10 = np.arange(start,stop,step)\n",
    "a10"
   ]
  },
  {
   "cell_type": "code",
   "execution_count": 63,
   "id": "5b1ae429-44b0-405f-b505-d0f0f25a7d46",
   "metadata": {},
   "outputs": [
    {
     "data": {
      "text/plain": [
       "array([ 0. ,  2.5,  5. ,  7.5, 10. , 12.5, 15. , 17.5, 20. ])"
      ]
     },
     "execution_count": 63,
     "metadata": {},
     "output_type": "execute_result"
    }
   ],
   "source": [
    "a11 = np.linspace(start, stop, 9)\n",
    "a11"
   ]
  },
  {
   "cell_type": "markdown",
   "id": "3b82ac22-b504-4e06-aebe-94c180d160fc",
   "metadata": {},
   "source": [
    "<h1>ویژگی‌های آرایه</h1>"
   ]
  },
  {
   "attachments": {
    "9f81ec49-53aa-48a2-ad0b-8242d390f6bc.png": {
     "image/png": "[encoded data removed]"
    }
   },
   "cell_type": "markdown",
   "id": "dcc2d9d0-1aef-4948-98b2-068691aa9fc9",
   "metadata": {},
   "source": [
    "![download (2).png](attachment:9f81ec49-53aa-48a2-ad0b-8242d390f6bc.png)"
   ]
  },
  {
   "attachments": {
    "ca46929a-269f-48e4-ba37-c097a1edcaed.jpeg": {
     "image/jpeg": "[encoded data removed]"
    }
   },
   "cell_type": "markdown",
   "id": "38b611ef-d3ee-4d81-bd44-5d4557a1a13d",
   "metadata": {},
   "source": [
    "![download (2).jpeg](attachment:ca46929a-269f-48e4-ba37-c097a1edcaed.jpeg)"
   ]
  },
  {
   "cell_type": "markdown",
   "id": "d51cad44-634e-4a57-830d-c7e1a6ebd474",
   "metadata": {},
   "source": [
    "<h1>انتخاب از آرایه</h1>"
   ]
  },
  {
   "cell_type": "code",
   "execution_count": 194,
   "id": "eb18b798-fc38-41f4-9e17-71eef1a8de07",
   "metadata": {},
   "outputs": [
    {
     "data": {
      "text/plain": [
       "array([[[ 0.,  1.,  2.,  3.,  4.,  5.,  6.,  7.,  8.,  9.],\n",
       "        [10., 11., 12., 13., 14., 15., 16., 17., 18., 19.],\n",
       "        [20., 21., 22., 23., 24., 25., 26., 27., 28., 29.],\n",
       "        [30., 31., 32., 33., 34., 35., 36., 37., 38., 39.],\n",
       "        [40., 41., 42., 43., 44., 45., 46., 47., 48., 49.]],\n",
       "\n",
       "       [[50., 51., 52., 53., 54., 55., 56., 57., 58., 59.],\n",
       "        [60., 61., 62., 63., 64., 65., 66., 67., 68., 69.],\n",
       "        [70., 71., 72., 73., 74., 75., 76., 77., 78., 79.],\n",
       "        [80., 81., 82., 83., 84., 85., 86., 87., 88., 89.],\n",
       "        [90., 91., 92., 93., 94., 95., 96., 97., 98., 99.]]],\n",
       "      dtype=float32)"
      ]
     },
     "execution_count": 194,
     "metadata": {},
     "output_type": "execute_result"
    }
   ],
   "source": [
    "arr = np.arange(0,100,1,dtype = np.float32).reshape(2,5,10)\n",
    "arr"
   ]
  },
  {
   "cell_type": "code",
   "execution_count": 195,
   "id": "db685bad-d2b9-455f-9d98-0298598380ef",
   "metadata": {},
   "outputs": [
    {
     "data": {
      "text/plain": [
       "0.0"
      ]
     },
     "execution_count": 195,
     "metadata": {},
     "output_type": "execute_result"
    }
   ],
   "source": [
    "arr[0][0][0]"
   ]
  },
  {
   "cell_type": "code",
   "execution_count": 196,
   "id": "858fbf11-e824-467b-ac2d-f702aca69d60",
   "metadata": {},
   "outputs": [
    {
     "data": {
      "text/plain": [
       "0.0"
      ]
     },
     "execution_count": 196,
     "metadata": {},
     "output_type": "execute_result"
    }
   ],
   "source": [
    "arr[0,0,0]"
   ]
  },
  {
   "cell_type": "code",
   "execution_count": 197,
   "id": "87042ee5-f0e7-468b-b0ea-4367dc251dda",
   "metadata": {},
   "outputs": [
    {
     "data": {
      "text/plain": [
       "True"
      ]
     },
     "execution_count": 197,
     "metadata": {},
     "output_type": "execute_result"
    }
   ],
   "source": [
    "arr[0,0,0] == arr[0,0,0]"
   ]
  },
  {
   "cell_type": "code",
   "execution_count": 198,
   "id": "996474ad-1b63-4082-b389-889dbe98f18d",
   "metadata": {},
   "outputs": [
    {
     "data": {
      "text/plain": [
       "array([[57, 72, 48, 12, 23],\n",
       "       [70, 33, 21, 88, 47],\n",
       "       [51,  5, 88, 92, 75],\n",
       "       [ 7, 84, 21, 23, 79],\n",
       "       [19, 78, 12, 44,  2]])"
      ]
     },
     "execution_count": 198,
     "metadata": {},
     "output_type": "execute_result"
    }
   ],
   "source": [
    "arr = np.random.randint(0,100,(5,5))\n",
    "arr"
   ]
  },
  {
   "cell_type": "code",
   "execution_count": 94,
   "id": "3eaa3b42-15ed-48b9-aacc-ead0c014479a",
   "metadata": {},
   "outputs": [],
   "source": [
    "arr[0,0:3]\n",
    "b = arr[:2,0:3]"
   ]
  },
  {
   "cell_type": "code",
   "execution_count": 98,
   "id": "10fd0954-ca72-4f96-9552-6a88a4ede333",
   "metadata": {
    "scrolled": true,
    "tags": []
   },
   "outputs": [
    {
     "data": {
      "text/plain": [
       "array([[100,  79,  96,  98,  41],\n",
       "       [ 63,  72,  42,  12,   5],\n",
       "       [ 53,  11,  28,   2,  38],\n",
       "       [ 36,  93,  74,  72,  69],\n",
       "       [  2,  86,   0,  22,  10]])"
      ]
     },
     "execution_count": 98,
     "metadata": {},
     "output_type": "execute_result"
    }
   ],
   "source": [
    "b[0] = 100\n",
    "arr"
   ]
  },
  {
   "cell_type": "code",
   "execution_count": 103,
   "id": "54afaa56-5d4d-4314-981b-8ba45d2d58d1",
   "metadata": {},
   "outputs": [
    {
     "data": {
      "text/plain": [
       "array([[100,  79],\n",
       "       [ 63,  72]])"
      ]
     },
     "execution_count": 103,
     "metadata": {},
     "output_type": "execute_result"
    }
   ],
   "source": [
    "arr[:2,:2]"
   ]
  },
  {
   "cell_type": "code",
   "execution_count": 101,
   "id": "eb975c34-52db-40dd-803c-271a8aded2e4",
   "metadata": {},
   "outputs": [
    {
     "data": {
      "text/plain": [
       "array([100,  79,  96,  98])"
      ]
     },
     "execution_count": 101,
     "metadata": {},
     "output_type": "execute_result"
    }
   ],
   "source": [
    "arr[0,:-1]"
   ]
  },
  {
   "cell_type": "code",
   "execution_count": 102,
   "id": "ec96ba76-d8da-46ca-994d-b522c1eceef7",
   "metadata": {},
   "outputs": [
    {
     "data": {
      "text/plain": [
       "array([[100,  79],\n",
       "       [ 63,  72]])"
      ]
     },
     "execution_count": 102,
     "metadata": {},
     "output_type": "execute_result"
    }
   ],
   "source": [
    "row_index = slice(0,2)\n",
    "column_index = slice(0,2)\n",
    "arr[row_index,column_index]"
   ]
  },
  {
   "cell_type": "code",
   "execution_count": 199,
   "id": "99cc83b4-5919-424c-a133-24284b707c43",
   "metadata": {},
   "outputs": [
    {
     "data": {
      "text/plain": [
       "array([[10.,  9.,  7., 20.],\n",
       "       [19., -3., 13.,  7.],\n",
       "       [ 4., 11., 13., -3.],\n",
       "       [ 6., 21.,  0.,  6.],\n",
       "       [12., 10., 14., 23.],\n",
       "       [-2.,  3., 12.,  0.],\n",
       "       [22., 22., 12.,  0.],\n",
       "       [ 8., 20.,  6., 19.],\n",
       "       [19., 12.,  4., 20.],\n",
       "       [16., 11.,  2., 21.]], dtype=float32)"
      ]
     },
     "execution_count": 199,
     "metadata": {},
     "output_type": "execute_result"
    }
   ],
   "source": [
    "scores = np.random.randint(-4,25,(10,4))\n",
    "scores = scores.astype(np.float32)\n",
    "scores"
   ]
  },
  {
   "cell_type": "code",
   "execution_count": 200,
   "id": "02143ba2-57bd-4821-b0c1-719f73bb2586",
   "metadata": {},
   "outputs": [
    {
     "data": {
      "text/plain": [
       "array([[False, False, False, False],\n",
       "       [False, False, False, False],\n",
       "       [False, False, False, False],\n",
       "       [False,  True, False, False],\n",
       "       [False, False, False,  True],\n",
       "       [False, False, False, False],\n",
       "       [ True,  True, False, False],\n",
       "       [False, False, False, False],\n",
       "       [False, False, False, False],\n",
       "       [False, False, False,  True]])"
      ]
     },
     "execution_count": 200,
     "metadata": {},
     "output_type": "execute_result"
    }
   ],
   "source": [
    "cond_1 = scores > 20\n",
    "cond_2 = scores < 0 \n",
    "cond_1"
   ]
  },
  {
   "cell_type": "code",
   "execution_count": 201,
   "id": "1f3384d4-59e2-4a0b-9e94-f236fdc1038b",
   "metadata": {},
   "outputs": [
    {
     "data": {
      "text/plain": [
       "5"
      ]
     },
     "execution_count": 201,
     "metadata": {},
     "output_type": "execute_result"
    }
   ],
   "source": [
    "np.sum(cond_1)"
   ]
  },
  {
   "cell_type": "code",
   "execution_count": 202,
   "id": "1727866e-b9ea-42db-bbde-57ad6dc4e7d9",
   "metadata": {},
   "outputs": [
    {
     "data": {
      "text/plain": [
       "3"
      ]
     },
     "execution_count": 202,
     "metadata": {},
     "output_type": "execute_result"
    }
   ],
   "source": [
    "np.sum(cond_2)"
   ]
  },
  {
   "cell_type": "code",
   "execution_count": 203,
   "id": "96638792-7daa-4f04-8c40-b590bb59089b",
   "metadata": {},
   "outputs": [
    {
     "data": {
      "text/plain": [
       "array([21., 23., 22., 22., 21.], dtype=float32)"
      ]
     },
     "execution_count": 203,
     "metadata": {},
     "output_type": "execute_result"
    }
   ],
   "source": [
    "scores[cond_1]"
   ]
  },
  {
   "cell_type": "code",
   "execution_count": 204,
   "id": "e03993e0-5a5f-482b-8044-efc0d21b5270",
   "metadata": {},
   "outputs": [
    {
     "data": {
      "text/plain": [
       "array([[10.,  9.,  7., 20.],\n",
       "       [19., -3., 13.,  7.],\n",
       "       [ 4., 11., 13., -3.],\n",
       "       [ 6., 20.,  0.,  6.],\n",
       "       [12., 10., 14., 20.],\n",
       "       [-2.,  3., 12.,  0.],\n",
       "       [20., 20., 12.,  0.],\n",
       "       [ 8., 20.,  6., 19.],\n",
       "       [19., 12.,  4., 20.],\n",
       "       [16., 11.,  2., 20.]], dtype=float32)"
      ]
     },
     "execution_count": 204,
     "metadata": {},
     "output_type": "execute_result"
    }
   ],
   "source": [
    "scores[cond_1] = 20\n",
    "scores"
   ]
  },
  {
   "cell_type": "code",
   "execution_count": 205,
   "id": "a1b0d501-81f1-4efd-b76d-fab2eb957132",
   "metadata": {},
   "outputs": [
    {
     "data": {
      "text/plain": [
       "array([[10.,  9.,  7., 20.],\n",
       "       [19.,  0., 13.,  7.],\n",
       "       [ 4., 11., 13.,  0.],\n",
       "       [ 6., 20.,  0.,  6.],\n",
       "       [12., 10., 14., 20.],\n",
       "       [ 0.,  3., 12.,  0.],\n",
       "       [20., 20., 12.,  0.],\n",
       "       [ 8., 20.,  6., 19.],\n",
       "       [19., 12.,  4., 20.],\n",
       "       [16., 11.,  2., 20.]], dtype=float32)"
      ]
     },
     "execution_count": 205,
     "metadata": {},
     "output_type": "execute_result"
    }
   ],
   "source": [
    "scores[cond_2] = 0\n",
    "scores"
   ]
  },
  {
   "cell_type": "code",
   "execution_count": 148,
   "id": "8142293e-aeff-4c6b-9211-3af5f3eb4072",
   "metadata": {},
   "outputs": [
    {
     "data": {
      "text/plain": [
       "array([[False, False, False, False],\n",
       "       [False, False, False, False],\n",
       "       [False, False, False, False],\n",
       "       [False, False, False, False],\n",
       "       [False, False, False, False],\n",
       "       [False, False, False, False],\n",
       "       [False, False, False, False],\n",
       "       [False, False, False, False],\n",
       "       [False, False, False, False],\n",
       "       [False, False, False, False]])"
      ]
     },
     "execution_count": 148,
     "metadata": {},
     "output_type": "execute_result"
    }
   ],
   "source": [
    "cond_3 =  (scores>=8 ) & ( scores<10)\n",
    "cond_3\n"
   ]
  },
  {
   "cell_type": "code",
   "execution_count": 144,
   "id": "bf7af4e5-f1fd-4caf-9a9c-4ce11b79c685",
   "metadata": {},
   "outputs": [],
   "source": [
    "scores[cond_3] = 10"
   ]
  },
  {
   "cell_type": "code",
   "execution_count": 145,
   "id": "e791dc69-678e-43ad-9069-6dead00044a7",
   "metadata": {},
   "outputs": [
    {
     "data": {
      "text/plain": [
       "array([[10.,  0., 10., 10.],\n",
       "       [10.,  0., 10., 10.],\n",
       "       [11., 10.,  0., 20.],\n",
       "       [20., 20., 10.,  0.],\n",
       "       [20.,  0., 20., 10.],\n",
       "       [20.,  0., 11., 20.],\n",
       "       [ 0., 20., 10., 10.],\n",
       "       [10., 10., 10., 17.],\n",
       "       [10., 10., 10., 10.],\n",
       "       [20., 10., 15., 20.]], dtype=float32)"
      ]
     },
     "execution_count": 145,
     "metadata": {},
     "output_type": "execute_result"
    }
   ],
   "source": [
    "scores"
   ]
  },
  {
   "cell_type": "code",
   "execution_count": 206,
   "id": "5318863f-6821-4685-a5f5-7de6fb7c6990",
   "metadata": {},
   "outputs": [],
   "source": [
    "cond_4 = (scores < 8 ) & (scores > 0 ) \n",
    "scores[cond_4] = 9.99\n"
   ]
  },
  {
   "cell_type": "code",
   "execution_count": 207,
   "id": "123ae6dc-a62d-46c3-8de0-e1681b7e310f",
   "metadata": {},
   "outputs": [
    {
     "data": {
      "text/plain": [
       "array([[10.  ,  9.  ,  9.99, 20.  ],\n",
       "       [19.  ,  0.  , 13.  ,  9.99],\n",
       "       [ 9.99, 11.  , 13.  ,  0.  ],\n",
       "       [ 9.99, 20.  ,  0.  ,  9.99],\n",
       "       [12.  , 10.  , 14.  , 20.  ],\n",
       "       [ 0.  ,  9.99, 12.  ,  0.  ],\n",
       "       [20.  , 20.  , 12.  ,  0.  ],\n",
       "       [ 8.  , 20.  ,  9.99, 19.  ],\n",
       "       [19.  , 12.  ,  9.99, 20.  ],\n",
       "       [16.  , 11.  ,  9.99, 20.  ]], dtype=float32)"
      ]
     },
     "execution_count": 207,
     "metadata": {},
     "output_type": "execute_result"
    }
   ],
   "source": [
    "scores"
   ]
  },
  {
   "cell_type": "code",
   "execution_count": 208,
   "id": "dc552ce1-8aac-4faa-93fc-5c2bdea47d58",
   "metadata": {},
   "outputs": [
    {
     "data": {
      "text/plain": [
       "(array([3, 4, 6, 6, 9]), array([1, 3, 0, 1, 3]))"
      ]
     },
     "execution_count": 208,
     "metadata": {},
     "output_type": "execute_result"
    }
   ],
   "source": [
    "indexes = np.where(cond_1)\n",
    "indexes"
   ]
  },
  {
   "cell_type": "code",
   "execution_count": 152,
   "id": "ff5dbb10-2c0b-40a2-96f1-bd8906c314ef",
   "metadata": {},
   "outputs": [
    {
     "data": {
      "text/plain": [
       "array([[18.,  4., -3.,  5.],\n",
       "       [11.,  8.,  9.,  1.],\n",
       "       [ 6., 20., -2.,  8.],\n",
       "       [ 7., 20., 23., -1.],\n",
       "       [11.,  3.,  9., 17.],\n",
       "       [12.,  0., -2., 14.],\n",
       "       [16.,  3., 20., 19.],\n",
       "       [ 5., -2., -1., 11.],\n",
       "       [19., 10., -1., -3.],\n",
       "       [ 8.,  8., 17., 24.]], dtype=float32)"
      ]
     },
     "execution_count": 152,
     "metadata": {},
     "output_type": "execute_result"
    }
   ],
   "source": [
    "scores"
   ]
  },
  {
   "cell_type": "code",
   "execution_count": 159,
   "id": "935ca506-0720-4c56-9d75-6dc2e22ca348",
   "metadata": {},
   "outputs": [
    {
     "data": {
      "text/plain": [
       "array([0, 1, 2, 3, 4, 5, 6, 7, 8, 9])"
      ]
     },
     "execution_count": 159,
     "metadata": {},
     "output_type": "execute_result"
    }
   ],
   "source": [
    "idx3"
   ]
  },
  {
   "cell_type": "code",
   "execution_count": 209,
   "id": "cba62d31-c1dd-4a2f-8686-66bef1dd3201",
   "metadata": {},
   "outputs": [
    {
     "data": {
      "text/plain": [
       "[(3, 1), (4, 3), (6, 0), (6, 1), (9, 3)]"
      ]
     },
     "execution_count": 209,
     "metadata": {},
     "output_type": "execute_result"
    }
   ],
   "source": [
    "list(zip(*indexes))"
   ]
  },
  {
   "cell_type": "code",
   "execution_count": 160,
   "id": "edcc784a-cca0-4045-8559-8e6fbf1de654",
   "metadata": {},
   "outputs": [
    {
     "data": {
      "text/plain": [
       "array([23., 24.], dtype=float32)"
      ]
     },
     "execution_count": 160,
     "metadata": {},
     "output_type": "execute_result"
    }
   ],
   "source": [
    "scores[indexes]"
   ]
  },
  {
   "cell_type": "code",
   "execution_count": 161,
   "id": "9942d02a-8562-4f9e-9b09-205b212c903a",
   "metadata": {},
   "outputs": [
    {
     "data": {
      "text/plain": [
       "array([11.,  7.], dtype=float32)"
      ]
     },
     "execution_count": 161,
     "metadata": {},
     "output_type": "execute_result"
    }
   ],
   "source": [
    "scores[[1,3],[0]] #(1,0) (3,0)"
   ]
  },
  {
   "cell_type": "code",
   "execution_count": 182,
   "id": "52d3cd74-5408-459b-b45b-55157283ed44",
   "metadata": {},
   "outputs": [
    {
     "data": {
      "text/plain": [
       "array([[5, 7, 0, 0, 5, 7, 4, 5, 9, 7],\n",
       "       [7, 8, 1, 1, 8, 8, 0, 7, 6, 3],\n",
       "       [4, 1, 6, 9, 5, 5, 2, 3, 3, 3],\n",
       "       [1, 0, 1, 8, 7, 9, 6, 1, 6, 9],\n",
       "       [7, 1, 0, 2, 5, 5, 9, 8, 3, 5],\n",
       "       [4, 8, 6, 5, 5, 9, 2, 6, 0, 3],\n",
       "       [2, 5, 6, 4, 8, 4, 9, 3, 7, 1],\n",
       "       [6, 9, 2, 4, 3, 6, 3, 1, 8, 4],\n",
       "       [6, 6, 1, 6, 1, 9, 4, 1, 2, 8],\n",
       "       [7, 3, 9, 7, 2, 3, 0, 8, 1, 9]])"
      ]
     },
     "execution_count": 182,
     "metadata": {},
     "output_type": "execute_result"
    }
   ],
   "source": [
    "rand_int = np.random.randint(0,10,(10,10))\n",
    "rand_int\n"
   ]
  },
  {
   "cell_type": "code",
   "execution_count": 169,
   "id": "aaaa934d-997c-4a4d-9c65-6bc3df9689a0",
   "metadata": {},
   "outputs": [
    {
     "data": {
      "text/plain": [
       "numpy.int64"
      ]
     },
     "execution_count": 169,
     "metadata": {},
     "output_type": "execute_result"
    }
   ],
   "source": [
    "np.sum(arr_test"
   ]
  },
  {
   "cell_type": "code",
   "execution_count": 168,
   "id": "9052a58b-8cf8-4cd3-9195-7c00446fe01f",
   "metadata": {},
   "outputs": [
    {
     "data": {
      "text/plain": [
       "numpy.int64"
      ]
     },
     "execution_count": 168,
     "metadata": {},
     "output_type": "execute_result"
    }
   ],
   "source": [
    "sum(arr_test)"
   ]
  },
  {
   "cell_type": "code",
   "execution_count": 213,
   "id": "62b6b812-ebe1-4226-a882-ad8ef640e77a",
   "metadata": {},
   "outputs": [
    {
     "name": "stdout",
     "output_type": "stream",
     "text": [
      "(10, 10)\n",
      "468\n",
      "[[5 7 0 0 5 7 4 5 9 7]\n",
      " [7 8 1 1 8 8 0 7 6 3]\n",
      " [4 1 6 9 5 5 2 3 3 3]\n",
      " [1 0 1 8 7 9 6 1 6 9]\n",
      " [7 1 0 2 5 5 9 8 3 5]\n",
      " [4 8 6 5 5 9 2 6 0 3]\n",
      " [2 5 6 4 8 4 9 3 7 1]\n",
      " [6 9 2 4 3 6 3 1 8 4]\n",
      " [6 6 1 6 1 9 4 1 2 8]\n",
      " [7 3 9 7 2 3 0 8 1 9]]\n"
     ]
    }
   ],
   "source": [
    "print(rand_int.shape)\n",
    "print(rand_int.sum())\n",
    "print(rand_int)"
   ]
  },
  {
   "cell_type": "code",
   "execution_count": 178,
   "id": "208e08e7-110c-4bf0-be24-8ecb11a7856a",
   "metadata": {},
   "outputs": [
    {
     "name": "stdout",
     "output_type": "stream",
     "text": [
      "[53 49 38 41 59 34 45 66 54 41]\n"
     ]
    }
   ],
   "source": [
    "print(rand_int.sum(axis = 0)) "
   ]
  },
  {
   "cell_type": "code",
   "execution_count": 179,
   "id": "c5fddae9-812b-4fe6-b173-06f87ae95fde",
   "metadata": {},
   "outputs": [
    {
     "name": "stdout",
     "output_type": "stream",
     "text": [
      "[44 38 46 49 47 52 42 60 47 55]\n"
     ]
    }
   ],
   "source": [
    "print(rand_int.sum(axis = 1))"
   ]
  },
  {
   "cell_type": "code",
   "execution_count": 214,
   "id": "38a9efbb-ceea-49c2-9594-f89e08d0bd65",
   "metadata": {},
   "outputs": [
    {
     "name": "stdout",
     "output_type": "stream",
     "text": [
      "[5 7 4 1 7 4 2 6 6 7]\n",
      "[5 7 0 0 5 7 4 5 9 7]\n"
     ]
    }
   ],
   "source": [
    "print(rand_int[:,0]) #axis 0\n",
    "print(rand_int[0,:]) #axis 1"
   ]
  },
  {
   "cell_type": "code",
   "execution_count": null,
   "id": "adf77e1e-e0fb-4976-a193-9d4a6cdbfdc4",
   "metadata": {},
   "outputs": [],
   "source": []
  },
  {
   "cell_type": "code",
   "execution_count": null,
   "id": "ae3a1b60-a53b-4f3e-b814-f9122da6555a",
   "metadata": {},
   "outputs": [],
   "source": [
    "(4,3,:)"
   ]
  },
  {
   "cell_type": "code",
   "execution_count": 216,
   "id": "f84ecf4f-bb3c-49c8-8702-44ae8ddd5716",
   "metadata": {},
   "outputs": [
    {
     "name": "stdout",
     "output_type": "stream",
     "text": [
      "SUM Along 0 Axis (3, 2)\n",
      "[[11  9]\n",
      " [ 9 12]\n",
      " [10 11]]\n",
      "-------------------------\n",
      "SUM Along 1 Axis (4, 2)\n",
      "[[10  3]\n",
      " [ 3 11]\n",
      " [ 8  7]\n",
      " [ 9 11]]\n",
      "-------------------------\n",
      "SUM Along 2 Axis (4, 3)\n",
      "[[4 4 5]\n",
      " [4 5 5]\n",
      " [5 4 6]\n",
      " [7 8 5]]\n",
      "-------------------------\n",
      "[[[4 0]\n",
      "  [2 2]\n",
      "  [4 1]]\n",
      "\n",
      " [[0 4]\n",
      "  [2 3]\n",
      "  [1 4]]\n",
      "\n",
      " [[3 2]\n",
      "  [1 3]\n",
      "  [4 2]]\n",
      "\n",
      " [[4 3]\n",
      "  [4 4]\n",
      "  [1 4]]]\n"
     ]
    }
   ],
   "source": [
    "arr = np.random.randint(0,5,(4,3,2))\n",
    "for i , s in enumerate(arr.shape):\n",
    "    s = arr.sum(i)\n",
    "    print(f\"SUM Along {i} Axis\" , s.shape)\n",
    "    print(s)\n",
    "    print(\"-\"*25)\n",
    "print(arr)\n",
    "\n"
   ]
  },
  {
   "cell_type": "code",
   "execution_count": null,
   "id": "762aa82a-03f8-4ea5-88c1-8941141ecdc4",
   "metadata": {},
   "outputs": [],
   "source": [
    "np.sum(arr[:,0,0])"
   ]
  },
  {
   "cell_type": "markdown",
   "id": "233d68cb-41d2-4138-bd22-0e15a5325ad2",
   "metadata": {},
   "source": [
    "<h1>تعداد کل عناصر آرایه</h1>"
   ]
  },
  {
   "cell_type": "code",
   "execution_count": 217,
   "id": "10a91fd7-83c8-4198-b54c-1fab2401dc94",
   "metadata": {},
   "outputs": [
    {
     "name": "stdout",
     "output_type": "stream",
     "text": [
      "(4, 3, 2)\n",
      "24\n"
     ]
    }
   ],
   "source": [
    "print(arr.shape) #(4,3,2)\n",
    "print(arr.size)"
   ]
  },
  {
   "cell_type": "markdown",
   "id": "22a67695-a4f5-47c4-9786-86a095db416c",
   "metadata": {},
   "source": [
    "<h1>Data Types</h1>"
   ]
  },
  {
   "cell_type": "code",
   "execution_count": null,
   "id": "028d25c7-8039-4e35-b3d5-ce43543c2d06",
   "metadata": {},
   "outputs": [],
   "source": [
    "np.int0\n",
    "np.int8\n",
    "np.int32\n",
    "np.int64\n",
    "\n",
    "np.uint\n",
    "np.uint8\n",
    "np.uint16\n",
    "np.uint32\n",
    "np.uint64\n",
    "\n",
    "np.float16\n",
    "np.float32\n",
    "np.float64\n",
    "\n",
    "np.byte \n",
    "np.ubyte"
   ]
  },
  {
   "cell_type": "code",
   "execution_count": 227,
   "id": "575df90a-a37f-4a45-9bb1-6ee8ae374a62",
   "metadata": {},
   "outputs": [
    {
     "data": {
      "text/plain": [
       "finfo(resolution=0.001, min=-6.55040e+04, max=6.55040e+04, dtype=float16)"
      ]
     },
     "execution_count": 227,
     "metadata": {},
     "output_type": "execute_result"
    }
   ],
   "source": [
    "np.finfo(np.float16)"
   ]
  },
  {
   "cell_type": "code",
   "execution_count": null,
   "id": "423525e2-3edb-4dd8-bcec-c3949a17900f",
   "metadata": {},
   "outputs": [],
   "source": []
  },
  {
   "cell_type": "code",
   "execution_count": 238,
   "id": "7a5dcb85-0607-4cac-b946-96ee3c9caa29",
   "metadata": {},
   "outputs": [
    {
     "data": {
      "text/plain": [
       "array([ 34,  87, 110], dtype=int8)"
      ]
     },
     "execution_count": 238,
     "metadata": {},
     "output_type": "execute_result"
    }
   ],
   "source": [
    "array = [34,87,110]\n",
    "array_int = np.array(array,dtype = np.int8) \n",
    "array_int"
   ]
  },
  {
   "cell_type": "code",
   "execution_count": 237,
   "id": "87089bd0-a40b-4582-900e-6aa35a3195f7",
   "metadata": {},
   "outputs": [
    {
     "data": {
      "text/plain": [
       "array([ 34.5,  87.5, 110.5], dtype=float16)"
      ]
     },
     "execution_count": 237,
     "metadata": {},
     "output_type": "execute_result"
    }
   ],
   "source": [
    "array_float = np.array(array,dtype = np.float16) \n",
    "array_float"
   ]
  },
  {
   "cell_type": "markdown",
   "id": "461785b6-6a14-4c8e-bd4a-03f9acc6c384",
   "metadata": {},
   "source": [
    "# cast"
   ]
  },
  {
   "cell_type": "code",
   "execution_count": 240,
   "id": "58523b01-0bad-45c8-af30-1f0dc1e44ec7",
   "metadata": {},
   "outputs": [
    {
     "data": {
      "text/plain": [
       "array([ 34,  87, 400], dtype=int32)"
      ]
     },
     "execution_count": 240,
     "metadata": {},
     "output_type": "execute_result"
    }
   ],
   "source": [
    "array_int = array_float.astype(np.int32)\n",
    "array_int[2] = 400\n",
    "array_int"
   ]
  },
  {
   "cell_type": "code",
   "execution_count": null,
   "id": "9eca0c74-279d-4504-868f-899b718efc11",
   "metadata": {},
   "outputs": [],
   "source": [
    "np.iinfo(np.int8)"
   ]
  },
  {
   "cell_type": "code",
   "execution_count": null,
   "id": "f5890145-72a9-4431-9012-413b4fbd1438",
   "metadata": {},
   "outputs": [],
   "source": [
    "np.finfo(np.float16)"
   ]
  },
  {
   "cell_type": "markdown",
   "id": "4ccb5c3b-9de7-4242-bbf9-651588595d1b",
   "metadata": {},
   "source": [
    "# توابع تجمیعی"
   ]
  },
  {
   "cell_type": "code",
   "execution_count": null,
   "id": "845e6a5a-6272-48ce-a840-be046c0ea7e1",
   "metadata": {},
   "outputs": [],
   "source": [
    "arr = np.random.randint(0,10,100)"
   ]
  },
  {
   "cell_type": "code",
   "execution_count": null,
   "id": "0861e49e-4677-4201-81fd-e7efd28249fb",
   "metadata": {},
   "outputs": [],
   "source": [
    "print(f\"\"\" \n",
    "SUM = {arr.sum()}\n",
    "MAX = {arr.max()}\n",
    "MIN = {arr.min()}\n",
    "VAR = {arr.var()}\n",
    "PROD = {arr.prod()}\n",
    "MEAN = {arr.mean()}\n",
    "ARG MAX = {arr.argmax()}\n",
    "\"\"\")"
   ]
  },
  {
   "cell_type": "code",
   "execution_count": null,
   "id": "51396b4e-8e5c-4aa4-b08e-6fd91093f823",
   "metadata": {},
   "outputs": [],
   "source": [
    "arr"
   ]
  },
  {
   "cell_type": "code",
   "execution_count": 241,
   "id": "859430ae-3509-450e-9525-03e4d3f29428",
   "metadata": {},
   "outputs": [
    {
     "data": {
      "text/plain": [
       "array([[0., 0., 0., 0., 0.],\n",
       "       [0., 0., 0., 0., 0.],\n",
       "       [0., 0., 0., 0., 0.],\n",
       "       [0., 0., 0., 0., 0.],\n",
       "       [0., 0., 0., 0., 0.]])"
      ]
     },
     "execution_count": 241,
     "metadata": {},
     "output_type": "execute_result"
    }
   ],
   "source": [
    "a = np.zeros((5,5))\n",
    "np.sin(a)"
   ]
  },
  {
   "cell_type": "code",
   "execution_count": 242,
   "id": "2a8843ea-b1b4-48f9-bcfd-fb7993f23a27",
   "metadata": {},
   "outputs": [
    {
     "data": {
      "text/plain": [
       "array([[1., 1., 1., 1., 1.],\n",
       "       [1., 1., 1., 1., 1.],\n",
       "       [1., 1., 1., 1., 1.],\n",
       "       [1., 1., 1., 1., 1.],\n",
       "       [1., 1., 1., 1., 1.]])"
      ]
     },
     "execution_count": 242,
     "metadata": {},
     "output_type": "execute_result"
    }
   ],
   "source": [
    "np.cos(a)"
   ]
  },
  {
   "cell_type": "markdown",
   "id": "a46c83d8-2d32-46e5-ada5-0f61bb83618d",
   "metadata": {},
   "source": [
    "# جبر خطی"
   ]
  },
  {
   "cell_type": "code",
   "execution_count": 244,
   "id": "3c035c70-f62d-44cb-8d6f-429e6001bc8f",
   "metadata": {},
   "outputs": [],
   "source": [
    "a = np.random.rand(3)\n",
    "b = np.random.rand(3)"
   ]
  },
  {
   "cell_type": "code",
   "execution_count": 245,
   "id": "37e6b8ce-6a2f-4abb-8e80-add485618588",
   "metadata": {},
   "outputs": [
    {
     "data": {
      "text/plain": [
       "array([0.2329128 , 0.47822859, 0.57069793])"
      ]
     },
     "execution_count": 245,
     "metadata": {},
     "output_type": "execute_result"
    }
   ],
   "source": [
    "a"
   ]
  },
  {
   "cell_type": "code",
   "execution_count": 247,
   "id": "1e952826-83a0-4f06-8e80-d8abb02598d1",
   "metadata": {},
   "outputs": [
    {
     "data": {
      "text/plain": [
       "array([0.64566335, 0.07801789, 0.34670367])"
      ]
     },
     "execution_count": 247,
     "metadata": {},
     "output_type": "execute_result"
    }
   ],
   "source": [
    "b"
   ]
  },
  {
   "cell_type": "code",
   "execution_count": 248,
   "id": "a7f5f109-dd28-4604-9a68-119f1b314c07",
   "metadata": {},
   "outputs": [
    {
     "data": {
      "text/plain": [
       "0.3855567104625982"
      ]
     },
     "execution_count": 248,
     "metadata": {},
     "output_type": "execute_result"
    }
   ],
   "source": [
    "d = a.dot(b) # (2,3) (3,5) -> (2,5) \n",
    "d"
   ]
  },
  {
   "cell_type": "code",
   "execution_count": 249,
   "id": "3d050a62-30c9-4c35-8843-e9d427276ebd",
   "metadata": {},
   "outputs": [
    {
     "name": "stdout",
     "output_type": "stream",
     "text": [
      "CPU times: user 70 µs, sys: 177 µs, total: 247 µs\n",
      "Wall time: 1.05 ms\n"
     ]
    },
    {
     "data": {
      "text/plain": [
       "0.3855567104625982"
      ]
     },
     "execution_count": 249,
     "metadata": {},
     "output_type": "execute_result"
    }
   ],
   "source": [
    "%%time\n",
    "a @ b"
   ]
  },
  {
   "cell_type": "code",
   "execution_count": null,
   "id": "3c1045a1-6e01-40cd-825d-9d012053db8e",
   "metadata": {},
   "outputs": [],
   "source": [
    "%%time\n",
    "np.sum(a*b)"
   ]
  },
  {
   "cell_type": "code",
   "execution_count": null,
   "id": "fd731d04-2ce5-40e9-a28a-c6175081abc6",
   "metadata": {},
   "outputs": [],
   "source": [
    "%%time\n",
    "sum(a*b)"
   ]
  },
  {
   "cell_type": "code",
   "execution_count": 251,
   "id": "ffa43e7f-3ae0-4122-9fe9-b21dbfad2717",
   "metadata": {},
   "outputs": [],
   "source": [
    "m = np.random.rand(2,3)"
   ]
  },
  {
   "cell_type": "code",
   "execution_count": 253,
   "id": "309141cc-b530-4848-b124-b6f143e7ab1f",
   "metadata": {},
   "outputs": [
    {
     "name": "stdout",
     "output_type": "stream",
     "text": [
      "[[0.96442336 0.23472377 0.47336816]\n",
      " [0.68764405 0.55152539 0.24745028]]\n"
     ]
    }
   ],
   "source": [
    "print(m)"
   ]
  },
  {
   "cell_type": "code",
   "execution_count": null,
   "id": "adda8073-547a-4076-80b2-2e2723e45075",
   "metadata": {},
   "outputs": [],
   "source": [
    "mt = m.T\n",
    "mt"
   ]
  },
  {
   "cell_type": "code",
   "execution_count": 252,
   "id": "bd50cdf1-cb1c-4f1f-a485-67aa55f66841",
   "metadata": {},
   "outputs": [
    {
     "data": {
      "text/plain": [
       "array([[0.96442336, 0.68764405],\n",
       "       [0.23472377, 0.55152539],\n",
       "       [0.47336816, 0.24745028]])"
      ]
     },
     "execution_count": 252,
     "metadata": {},
     "output_type": "execute_result"
    }
   ],
   "source": [
    "mt = np.transpose(m)\n",
    "mt"
   ]
  },
  {
   "cell_type": "code",
   "execution_count": null,
   "id": "5a75e078-032a-4538-9b1b-47e035910f16",
   "metadata": {},
   "outputs": [],
   "source": [
    "a = np.random.rand(3,3)\n",
    "np.linalg.inv(a)"
   ]
  },
  {
   "cell_type": "code",
   "execution_count": null,
   "id": "f4fc6e6a-4988-4295-908a-e4448d338787",
   "metadata": {},
   "outputs": [],
   "source": [
    "a"
   ]
  },
  {
   "cell_type": "markdown",
   "id": "5948b504-61d0-4ae3-8a0c-3c6054887487",
   "metadata": {},
   "source": [
    "\n",
    "# حل معادله"
   ]
  },
  {
   "cell_type": "code",
   "execution_count": 254,
   "id": "d762d4c0-e731-41f9-a910-1d35991a5a29",
   "metadata": {},
   "outputs": [],
   "source": [
    "a = np.array([\n",
    "       [1, 2],\n",
    "       [3, 4]\n",
    "])"
   ]
  },
  {
   "cell_type": "code",
   "execution_count": 255,
   "id": "d0d39ff6-521e-4ba3-83f4-1335c04f0d74",
   "metadata": {},
   "outputs": [
    {
     "data": {
      "text/plain": [
       "array([0. , 0.5])"
      ]
     },
     "execution_count": 255,
     "metadata": {},
     "output_type": "execute_result"
    }
   ],
   "source": [
    "b = np.array([1,2])\n",
    "np.linalg.solve(a,b) #Ax = B"
   ]
  },
  {
   "cell_type": "markdown",
   "id": "66a56d11-ec82-4e2d-8487-4b0ad099223d",
   "metadata": {},
   "source": [
    "دریافت قطر ماتریس"
   ]
  },
  {
   "cell_type": "code",
   "execution_count": 256,
   "id": "5bd97c10-c09b-49f6-996e-4c543ef137b3",
   "metadata": {},
   "outputs": [
    {
     "data": {
      "text/plain": [
       "array([1, 4])"
      ]
     },
     "execution_count": 256,
     "metadata": {},
     "output_type": "execute_result"
    }
   ],
   "source": [
    "np.diag(a)"
   ]
  },
  {
   "cell_type": "markdown",
   "id": "9e0f6816-8e5d-40f9-8937-3b275c4f926b",
   "metadata": {},
   "source": [
    "محاسبه دترمینان"
   ]
  },
  {
   "cell_type": "code",
   "execution_count": 257,
   "id": "2d22cb93-09f7-4250-bea6-f13d3790ea52",
   "metadata": {},
   "outputs": [
    {
     "data": {
      "text/plain": [
       "-2.0000000000000004"
      ]
     },
     "execution_count": 257,
     "metadata": {},
     "output_type": "execute_result"
    }
   ],
   "source": [
    "np.linalg.det(a)"
   ]
  },
  {
   "cell_type": "markdown",
   "id": "4bfbd47b-247a-4beb-973c-6a544f1b605c",
   "metadata": {},
   "source": [
    "# تغییر ابعاد"
   ]
  },
  {
   "cell_type": "code",
   "execution_count": 260,
   "id": "22b75774-a7fa-4b59-9867-852275efd6d2",
   "metadata": {},
   "outputs": [
    {
     "data": {
      "text/plain": [
       "array([ 0,  1,  2,  3,  4,  5,  6,  7,  8,  9, 10, 11, 12, 13, 14, 15, 16,\n",
       "       17, 18, 19])"
      ]
     },
     "execution_count": 260,
     "metadata": {},
     "output_type": "execute_result"
    }
   ],
   "source": [
    "arr = np.arange(20)\n",
    "arr"
   ]
  },
  {
   "cell_type": "code",
   "execution_count": 267,
   "id": "96308cbe-d29d-4cc3-843e-49ee36bced86",
   "metadata": {},
   "outputs": [],
   "source": [
    "arr = arr.reshape(4,5)"
   ]
  },
  {
   "cell_type": "code",
   "execution_count": 261,
   "id": "8488e9af-fc56-4f4a-940e-b7e247719c88",
   "metadata": {},
   "outputs": [
    {
     "ename": "ValueError",
     "evalue": "cannot reshape array of size 20 into shape (6)",
     "output_type": "error",
     "traceback": [
      "\u001b[0;31m---------------------------------------------------------------------------\u001b[0m",
      "\u001b[0;31mValueError\u001b[0m                                Traceback (most recent call last)",
      "\u001b[0;32m/var/folders/xd/w_zb7xsn3cn2yyq8d2db1vl40000gn/T/ipykernel_63280/4172699255.py\u001b[0m in \u001b[0;36m<module>\u001b[0;34m\u001b[0m\n\u001b[0;32m----> 1\u001b[0;31m \u001b[0marr\u001b[0m\u001b[0;34m.\u001b[0m\u001b[0mreshape\u001b[0m\u001b[0;34m(\u001b[0m\u001b[0;34m-\u001b[0m\u001b[0;36m1\u001b[0m\u001b[0;34m,\u001b[0m\u001b[0;36m6\u001b[0m\u001b[0;34m)\u001b[0m\u001b[0;34m\u001b[0m\u001b[0;34m\u001b[0m\u001b[0m\n\u001b[0m",
      "\u001b[0;31mValueError\u001b[0m: cannot reshape array of size 20 into shape (6)"
     ]
    }
   ],
   "source": [
    "arr.reshape(-1,4)"
   ]
  },
  {
   "cell_type": "code",
   "execution_count": 271,
   "id": "dd8f52d5-3312-4b9e-9380-db3ad7b8cae9",
   "metadata": {},
   "outputs": [
    {
     "data": {
      "text/plain": [
       "19"
      ]
     },
     "execution_count": 271,
     "metadata": {},
     "output_type": "execute_result"
    }
   ],
   "source": [
    "arr[-1,-1]"
   ]
  },
  {
   "cell_type": "code",
   "execution_count": 272,
   "id": "f28a6781-75b2-4c06-8681-3a1c92b9b5b1",
   "metadata": {},
   "outputs": [
    {
     "data": {
      "text/plain": [
       "array([[ 0,  1,  2,  3,  4],\n",
       "       [ 5,  6,  7,  8,  9],\n",
       "       [10, 11, 12, 13, 14],\n",
       "       [15, 16, 17, 18, 19]])"
      ]
     },
     "execution_count": 272,
     "metadata": {},
     "output_type": "execute_result"
    }
   ],
   "source": [
    "arr"
   ]
  },
  {
   "cell_type": "code",
   "execution_count": null,
   "id": "9e8fb03c-8349-42ce-a6a0-252b2b91ce80",
   "metadata": {},
   "outputs": [],
   "source": []
  }
 ],
 "metadata": {
  "kernelspec": {
   "display_name": "Python 3 (ipykernel)",
   "language": "python",
   "name": "python3"
  },
  "language_info": {
   "codemirror_mode": {
    "name": "ipython",
    "version": 3
   },
   "file_extension": ".py",
   "mimetype": "text/x-python",
   "name": "python",
   "nbconvert_exporter": "python",
   "pygments_lexer": "ipython3",
   "version": "3.11.4"
  }
 },
 "nbformat": 4,
 "nbformat_minor": 5
}
